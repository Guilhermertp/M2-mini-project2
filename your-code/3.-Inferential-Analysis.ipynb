{
 "cells": [
  {
   "cell_type": "markdown",
   "metadata": {},
   "source": [
    "# Inferential statistics\n",
    "## Part III - Inferential Analysis\n",
    "\n",
    "We're now going to look for answers to the ongoing basketball discussions between you and your family. The main ones we want to reasearch are the following:\n",
    "\n",
    "- Your grandmother says that your sister couldn't play in a professional basketball league (not only the WNBA, but ANY professional basketball league) because she's too skinny and lacks muscle.\n",
    "- Your sister says that most female professional players fail their free throws.\n",
    "- Your brother-in-law heard on the TV that the average assists among NBA (male) and WNBA (female) players is 52 for the 2016-2017 season. He is convinced this average would be higher if we only considered the players from the WNBA.\n",
    "\n",
    "Let's investigate these claims and see if we can find proof to refute or support them.\n",
    "\n",
    "### Libraries\n",
    "Import the necessary libraries first."
   ]
  },
  {
   "cell_type": "code",
   "execution_count": 65,
   "metadata": {},
   "outputs": [],
   "source": [
    "# Libraries\n",
    "import math\n",
    "import pandas as pd\n",
    "import numpy as np\n",
    "from scipy import stats as st\n",
    "import matplotlib.pyplot as plt\n",
    "from scipy.stats import ttest_1samp\n",
    "pd.set_option('max_columns', 50)"
   ]
  },
  {
   "cell_type": "markdown",
   "metadata": {},
   "source": [
    "### Load the dataset\n",
    "\n",
    "Load the cleaned dataset."
   ]
  },
  {
   "cell_type": "code",
   "execution_count": 66,
   "metadata": {},
   "outputs": [],
   "source": [
    "#your code here\n",
    "wnba_clean = pd.read_csv('C:\\\\Users\\\\guilh\\\\M2-mini-project2\\\\data\\wnba_clean.csv')"
   ]
  },
  {
   "cell_type": "markdown",
   "metadata": {},
   "source": [
    "# Question 1: Can my sister play in a professional female basketball league?\n",
    "\n",
    "As we said, you grandmother is convinced that your sister couldn't play in a professional league because of her physique and weight (her weight is 67kg). \n",
    "\n",
    "To find an actual answer to the question we first need to know what's the average weight of a professional female basketball player. The data we have only refers to the WNBA league and not to every female professional basketball league in the world, therefore we have no way of actually calculating it.\n",
    "\n",
    "Still, given that we do have *some* data we can **infer** it using a sample of players like the one we have. \n",
    "\n",
    "**How would you do it? Try and think about the requirements that your sample must satisfy in order to be used to infer the average weight. Do you feel it actually fulfills those requirements? Do you need to make any assumptions? We could calculate a confidence interval to do the inference, but do you know any other ways?**"
   ]
  },
  {
   "cell_type": "code",
   "execution_count": 67,
   "metadata": {},
   "outputs": [
    {
     "data": {
      "text/plain": [
       "'\\n1.requirements that your sample must satisfy in order to be used to infer the average weight:\\n\\n    1.1 Elements of the sample should come from the population\\n    1.2 Sample should be a representative of the larger population\\n    1.3 Individual samples should be independent between each other\\n******************************************************************************************    \\n2.Do you feel it actually fulfills those requirements? \\n\\n2.1 Yes, the elements of the sample come from the population\\n\\n2.2 We could say Yes, because taking in account that the professional leagues in the world have players with similar heights in average\\n,we could assume that in average the other characteristics are identical.\\n\\n2.3 Yes, the players are independent from each other, a individual sample is ndependent between each other\\n*********************************************************************************************************\\n3.Do you need to make any assumptions?\\n\\nThat the players in other professional leagues have similar characteristics\\n***************************************************************************************************\\n4.We could calculate a confidence interval to do the inference, but do you know any other ways?\\n\\n1.One sample hypothesis testing.\\n2.Pearson Correlation.\\n3.Bi-variate regression.\\n4.Multi-variate regression.\\n5.Chi-square statistics and contingency table.\\n6.ANOVA or T-test.\\n\\n'"
      ]
     },
     "execution_count": 67,
     "metadata": {},
     "output_type": "execute_result"
    }
   ],
   "source": [
    "# your answer here\n",
    "\"\"\"\n",
    "1.requirements that your sample must satisfy in order to be used to infer the average weight:\n",
    "\n",
    "    1.1 Elements of the sample should come from the population\n",
    "    1.2 Sample should be a representative of the larger population\n",
    "    1.3 Individual samples should be independent between each other\n",
    "******************************************************************************************    \n",
    "2.Do you feel it actually fulfills those requirements? \n",
    "\n",
    "2.1 Yes, the elements of the sample come from the population\n",
    "\n",
    "2.2 We could say Yes, because taking in account that the professional leagues in the world have players with similar heights in average\n",
    ",we could assume that in average the other characteristics are identical.\n",
    "\n",
    "2.3 Yes, the players are independent from each other, a individual sample is ndependent between each other\n",
    "*********************************************************************************************************\n",
    "3.Do you need to make any assumptions?\n",
    "\n",
    "That the players in other professional leagues have similar characteristics\n",
    "***************************************************************************************************\n",
    "4.We could calculate a confidence interval to do the inference, but do you know any other ways?\n",
    "\n",
    "1.One sample hypothesis testing.\n",
    "2.Pearson Correlation.\n",
    "3.Bi-variate regression.\n",
    "4.Multi-variate regression.\n",
    "5.Chi-square statistics and contingency table.\n",
    "6.ANOVA or T-test.\n",
    "\n",
    "\"\"\""
   ]
  },
  {
   "cell_type": "markdown",
   "metadata": {},
   "source": [
    "**Now that all the requirements have been taken into account, compute the confidence interval of the average weight with a confidence level of 95%.**"
   ]
  },
  {
   "cell_type": "code",
   "execution_count": 68,
   "metadata": {},
   "outputs": [
    {
     "name": "stderr",
     "output_type": "stream",
     "text": [
      "C:\\ProgramData\\Anaconda3\\lib\\site-packages\\seaborn\\distributions.py:2551: FutureWarning: `distplot` is a deprecated function and will be removed in a future version. Please adapt your code to use either `displot` (a figure-level function with similar flexibility) or `histplot` (an axes-level function for histograms).\n",
      "  warnings.warn(msg, FutureWarning)\n"
     ]
    },
    {
     "data": {
      "text/plain": [
       "<AxesSubplot:xlabel='Weight', ylabel='Density'>"
      ]
     },
     "execution_count": 68,
     "metadata": {},
     "output_type": "execute_result"
    },
    {
     "data": {
      "image/png": "[encoded data removed]",
      "text/plain": [
       "<Figure size 432x288 with 1 Axes>"
      ]
     },
     "metadata": {
      "needs_background": "light"
     },
     "output_type": "display_data"
    }
   ],
   "source": [
    "# your code here\n",
    "import seaborn as sns\n",
    "#checking how is the distribution of the sample\n",
    "sns.distplot(wnba_clean['Weight'])"
   ]
  },
  {
   "cell_type": "markdown",
   "metadata": {},
   "source": [
    "##### A)Creating the confidence interval (hard way)"
   ]
  },
  {
   "cell_type": "code",
   "execution_count": 69,
   "metadata": {},
   "outputs": [
    {
     "name": "stdout",
     "output_type": "stream",
     "text": [
      "left end:  76.28682015112898\n",
      "right end:  80.56632670201788\n",
      "\n",
      "The sample size is:  143\n"
     ]
    }
   ],
   "source": [
    "# your code here\n",
    "\n",
    "# To create our interval at 95% confidence we need\n",
    "# 1. The mean of the sample\n",
    "# 2. The number of observation\n",
    "# 3. The std of the original distribution\n",
    "\n",
    "# 1. The mean of the sample\n",
    "mean = wnba_clean['Weight'].mean()\n",
    "# 2. The number of observation\n",
    "n = wnba_clean['Weight'].count()\n",
    "# 3. The std of the original distribution\n",
    "std = wnba_clean['Weight'].std()\n",
    "\n",
    "#construct of 95.5% confidence interval\n",
    "\n",
    "print(\"left end: \", mean - 2* (std/np.sqrt(n)))\n",
    "print(\"right end: \", mean + 2* (std/np.sqrt(n)))\n",
    "\n",
    "print(\"\\nThe sample size is: \",n)"
   ]
  },
  {
   "cell_type": "markdown",
   "metadata": {},
   "source": [
    "#### B) Computing the confidence interval using the python module scipy.stats (easy way)"
   ]
  },
  {
   "cell_type": "markdown",
   "metadata": {},
   "source": [
    "## check the sample size to see if we calculate confidence interval for mean using t-distribution or normal distribution\n",
    "\n",
    "statsmodels.stats.proportion.proportion_confint(count, nobs, alpha=0.05, method='normal')[source]¶\n",
    "confidence interval for a binomial proportion\n",
    "\n",
    "2.If **sample size (n>30)** we will use the **normal distribution** to calculate the confidence intervals for the mean\n",
    "by assuming the sample mean is normally distributed due to central limit theorem."
   ]
  },
  {
   "cell_type": "markdown",
   "metadata": {},
   "source": [
    "Since sample size is 143 ( > 30 ),we are **assuming** the **sample** is **normally distributed** due to central limit theorem."
   ]
  },
  {
   "cell_type": "code",
   "execution_count": 70,
   "metadata": {},
   "outputs": [
    {
     "data": {
      "text/plain": [
       "(76.28184045122534, 80.57130640192152)"
      ]
     },
     "execution_count": 70,
     "metadata": {},
     "output_type": "execute_result"
    }
   ],
   "source": [
    "# your code here\n",
    "st.norm.interval(0.955,loc=mean,scale=std/np.sqrt(n))"
   ]
  },
  {
   "cell_type": "markdown",
   "metadata": {},
   "source": [
    "**What can you say about these results?**"
   ]
  },
  {
   "cell_type": "code",
   "execution_count": 71,
   "metadata": {},
   "outputs": [],
   "source": [
    "#your-answer-here\n",
    "#I can say with 95.5% of condifence that the average weight of a player is between 76 kg and 80 kg"
   ]
  },
  {
   "cell_type": "markdown",
   "metadata": {},
   "source": [
    "**If your sister weighs 67kg what would you tell your grandmother in regards to her assumption?**"
   ]
  },
  {
   "cell_type": "code",
   "execution_count": 72,
   "metadata": {},
   "outputs": [],
   "source": [
    "#your-answer-here\n",
    "#I would say that she is probably right, because in average the players have a weight between 76 kg and 80 kg"
   ]
  },
  {
   "cell_type": "markdown",
   "metadata": {},
   "source": [
    "## Bonus: Can you plot the probability distribution of the average weight, indicating where the critical region is?"
   ]
  },
  {
   "cell_type": "code",
   "execution_count": 73,
   "metadata": {},
   "outputs": [
    {
     "name": "stderr",
     "output_type": "stream",
     "text": [
      "C:\\ProgramData\\Anaconda3\\lib\\site-packages\\seaborn\\distributions.py:2551: FutureWarning: `distplot` is a deprecated function and will be removed in a future version. Please adapt your code to use either `displot` (a figure-level function with similar flexibility) or `histplot` (an axes-level function for histograms).\n",
      "  warnings.warn(msg, FutureWarning)\n"
     ]
    },
    {
     "data": {
      "image/png": "[encoded data removed]",
      "text/plain": [
       "<Figure size 432x288 with 1 Axes>"
      ]
     },
     "metadata": {
      "needs_background": "light"
     },
     "output_type": "display_data"
    }
   ],
   "source": [
    "#left end of confidence interval\n",
    "x0 = 76.28184045122534\n",
    "\n",
    "#right end of confidence interval\n",
    "x1 = 80.57130640192152\n",
    "\n",
    " \n",
    "#plotting the PDF (do this before plotting anything else)\n",
    "ax = sns.distplot(wnba_clean['Weight'], hist=True,color='#388E3C')\n",
    "kde_x, kde_y = ax.lines[0].get_data()\n",
    "\n",
    "#plotting the two lines where in between we have the values for the confidence interval\n",
    "p1 = plt.axvline(x=x0,color='blue')\n",
    "p2 = plt.axvline(x=x1,color='blue')\n",
    "\n",
    "\n",
    "ax.fill_between(kde_x, kde_y, where=(kde_x<x0) | (kde_x>x1) , \n",
    "                interpolate=True, color='#EF9A9A')\n",
    "\n",
    "plt.show()"
   ]
  },
  {
   "cell_type": "markdown",
   "metadata": {},
   "source": [
    "# Question 2: Do female professional basketball players fail the majority of their free throws?\n",
    "\n",
    "You do not agree with your sister when she says that most female players fail their free throws. You decide to try and estimate the percentage of players that fail more than 40% of their free throws using, you guessed it, the WNBA sample.\n",
    "\n",
    "**How would you do it? Try and think about the requirements that your sample must satisfy in order to be used to infer the proportion of players that miss more than 40% of their free throws. Do you feel it actually fulfills those requirements? Do you need to make any assumptions?**"
   ]
  },
  {
   "cell_type": "code",
   "execution_count": 74,
   "metadata": {},
   "outputs": [
    {
     "data": {
      "text/plain": [
       "'Requirements\\n1. The population is representative of the population? YES (I assume)\\n2. Elements of the sample come from the population? YES\\n3. Individual samples are independent between each other? YES\\n\\n'"
      ]
     },
     "execution_count": 74,
     "metadata": {},
     "output_type": "execute_result"
    }
   ],
   "source": [
    "# your answer here\n",
    "\"\"\"Requirements\n",
    "1. The population is representative of the population? YES (I assume)\n",
    "2. Elements of the sample come from the population? YES\n",
    "3. Individual samples are independent between each other? YES\n",
    "\n",
    "\"\"\""
   ]
  },
  {
   "cell_type": "markdown",
   "metadata": {},
   "source": [
    "**Now that all the requirements have been taken into account, compute the confidence interval of the proportion with a confidence level of 95%:**"
   ]
  },
  {
   "cell_type": "markdown",
   "metadata": {},
   "source": [
    "# In order to to infer the proportion of players that miss more than 40% of their free throws, we need to have a subset with only the players that miss more than 40%"
   ]
  },
  {
   "cell_type": "code",
   "execution_count": 75,
   "metadata": {},
   "outputs": [],
   "source": [
    "# FT% = FTM(Free throws made)/FTA(free throws attempt)\n",
    "#FT% gives the percentage of success\n",
    "# selects s subset of the dataframe based on the condition of players that fail more than 40%\n",
    "wnba_2 = wnba_clean.loc[wnba_clean['FT%']< 60]"
   ]
  },
  {
   "cell_type": "markdown",
   "metadata": {},
   "source": [
    "## Compute the confidence interval of the proportion with a confidence level of 95%\n",
    "\n",
    "We are going to use the:\n",
    "**statsmodels.stats.proportion.proportion_confint(count, nobs, alpha=0.05, method='normal')** ->confidence interval for a binomial proportion\n",
    "\n",
    "Parameters:\n",
    "- **count** : number of successes\n",
    "- **nobs** : total number of trials\n",
    "- **alpha** : significance level\n",
    "- **method** : {‘normal’, ‘agresti_coull’, ‘beta’, ‘wilson’, ‘binom_test’}\n",
    "binomial proportion confidence interval is a confidence interval for the probability of success calculated from the outcome of a series of success–failure experiments (Bernoulli trials)"
   ]
  },
  {
   "cell_type": "code",
   "execution_count": 76,
   "metadata": {},
   "outputs": [
    {
     "data": {
      "text/plain": [
       "(0.05467303025337226, 0.15511717953683754)"
      ]
     },
     "execution_count": 76,
     "metadata": {},
     "output_type": "execute_result"
    }
   ],
   "source": [
    "#number of successes, players that fail more than 40%\n",
    "count = len(wnba_2)\n",
    "\n",
    "# total number of trials,elements in the column Free Throws %\n",
    "nobs = len(wnba_clean['FT%'])\n",
    "\n",
    "#significance level of 0.05, it means for a confidence level of 95%, 1-0.95 = 0.05\n",
    "alpha = 0.05 \n",
    "\n",
    "#asymptotic normal approximation -> asymptotic normality is a generalization of the central limit theorem\n",
    "method = 'normal'\n",
    "\n",
    "from statsmodels.stats import proportion\n",
    "\n",
    "#compute the confience interval\n",
    "proportion.proportion_confint(count,nobs,alpha=0.05,method='normal') "
   ]
  },
  {
   "cell_type": "markdown",
   "metadata": {},
   "source": [
    "**What can you comment about our result? What would you tell your sister?**"
   ]
  },
  {
   "cell_type": "code",
   "execution_count": 77,
   "metadata": {},
   "outputs": [],
   "source": [
    "#your-answer-here\n",
    "#It is not very probable that players would miss 40% of the times,i can say with confidence that in average the percentage\n",
    "#of players that fail free throws are between 5% and 15%"
   ]
  },
  {
   "cell_type": "markdown",
   "metadata": {},
   "source": [
    "# Bonus: Can you plot the probability distribution of the proportion of missed free throws, indicating where the critical region is?"
   ]
  },
  {
   "cell_type": "code",
   "execution_count": 78,
   "metadata": {},
   "outputs": [
    {
     "data": {
      "text/plain": [
       "count    15.000000\n",
       "mean     33.633333\n",
       "std      25.469552\n",
       "min       0.000000\n",
       "25%       0.000000\n",
       "50%      50.000000\n",
       "75%      53.550000\n",
       "max      58.300000\n",
       "Name: FT%, dtype: float64"
      ]
     },
     "execution_count": 78,
     "metadata": {},
     "output_type": "execute_result"
    }
   ],
   "source": [
    "wnba_2['FT%'].describe()"
   ]
  },
  {
   "cell_type": "code",
   "execution_count": 79,
   "metadata": {},
   "outputs": [
    {
     "name": "stderr",
     "output_type": "stream",
     "text": [
      "C:\\ProgramData\\Anaconda3\\lib\\site-packages\\seaborn\\distributions.py:2551: FutureWarning: `distplot` is a deprecated function and will be removed in a future version. Please adapt your code to use either `displot` (a figure-level function with similar flexibility) or `histplot` (an axes-level function for histograms).\n",
      "  warnings.warn(msg, FutureWarning)\n"
     ]
    },
    {
     "data": {
      "text/plain": [
       "<AxesSubplot:xlabel='FT%', ylabel='Density'>"
      ]
     },
     "execution_count": 79,
     "metadata": {},
     "output_type": "execute_result"
    },
    {
     "data": {
      "image/png": "[encoded data removed]",
      "text/plain": [
       "<Figure size 432x288 with 1 Axes>"
      ]
     },
     "metadata": {
      "needs_background": "light"
     },
     "output_type": "display_data"
    }
   ],
   "source": [
    "#your code here\n",
    "sns.distplot(wnba_2['FT%'])"
   ]
  },
  {
   "cell_type": "code",
   "execution_count": 80,
   "metadata": {},
   "outputs": [
    {
     "name": "stderr",
     "output_type": "stream",
     "text": [
      "C:\\ProgramData\\Anaconda3\\lib\\site-packages\\seaborn\\distributions.py:2551: FutureWarning: `distplot` is a deprecated function and will be removed in a future version. Please adapt your code to use either `displot` (a figure-level function with similar flexibility) or `histplot` (an axes-level function for histograms).\n",
      "  warnings.warn(msg, FutureWarning)\n"
     ]
    },
    {
     "data": {
      "image/png": "[encoded data removed]",
      "text/plain": [
       "<Figure size 432x288 with 1 Axes>"
      ]
     },
     "metadata": {
      "needs_background": "light"
     },
     "output_type": "display_data"
    }
   ],
   "source": [
    "#your code here\n",
    "\n",
    "\n",
    "#left end of confidence interval\n",
    "x0 = 0.05467303025337226*100\n",
    "\n",
    "#right end of confidence interval\n",
    "x1 = 0.15511717953683754*100\n",
    "\n",
    " \n",
    "#plotting the PDF (do this before plotting anything else)\n",
    "ax = sns.distplot(wnba_2['FT%'], hist=True,color='#388E3C')\n",
    "kde_x, kde_y = ax.lines[0].get_data()\n",
    "\n",
    "#plotting the two lines where in between we have the values for the confidence interval\n",
    "p1 = plt.axvline(x=x0,color='blue')\n",
    "p2 = plt.axvline(x=x1,color='blue')\n",
    "\n",
    "\n",
    "ax.fill_between(kde_x, kde_y, where=(kde_x<x0) | (kde_x>x1) , \n",
    "                interpolate=True, color='#EF9A9A')\n",
    "ax.title.set_text('%Miss Free throws')\n",
    "plt.show()"
   ]
  },
  {
   "cell_type": "markdown",
   "metadata": {},
   "source": [
    "# Question 3: Is the average number of assists for WNBA players only higher than the average for WNBA and NBA players together?"
   ]
  },
  {
   "cell_type": "markdown",
   "metadata": {},
   "source": [
    "<font size=\"3\"> Your brother-in-law is convinced that the average assists for female professional players is higher than the **average** of both female and male players combined (which is **52** for the 2016-2017 season). You would like to actually prove if this is true or not but you remember your stats teacher saying \"you can't *prove* anything, you just can say that *you are not* saying foolishness\".\n",
    "\n",
    " **How would you do it? Try and think about the requirements that your sample must satisfy in order to do that. Do you feel it actually fulfills those requirements? Do you need to make any assumptions?**<font>"
   ]
  },
  {
   "cell_type": "markdown",
   "metadata": {},
   "source": [
    "\n",
    "\n",
    "**In order to conduct a hypothesis test we need to meet certain assumptions:**\n",
    "\n",
    "- Our observations must be **independent of each other**. For example, if we have people who live in the same household participating in a medical trial, they might be exposed to the same environmental conditions or eat the same food. This can bias our results.\n",
    "\n",
    "\n",
    "- **Normality of data** - We assume that the sample is derived from a normally distributed data.\n",
    "\n",
    "\n",
    "- **Adequate sample size**. In order to perform a test using the normal distribution and not approximate to the t distribution, our sample size must be greater than 30.\n",
    "\n",
    "\n",
    "- In order to use the **normal distribution for our hypothesis test**, we must assume the population standard deviation is known. If the population standard deviation is not known, then we use the t-distribution for the hypothesis tes"
   ]
  },
  {
   "cell_type": "markdown",
   "metadata": {},
   "source": [
    "## **Use a two-tailed one-sample t-test to see if we can reject (or not) the null hypothesis with a 95% confidence level.**"
   ]
  },
  {
   "cell_type": "code",
   "execution_count": 92,
   "metadata": {},
   "outputs": [
    {
     "name": "stderr",
     "output_type": "stream",
     "text": [
      "C:\\ProgramData\\Anaconda3\\lib\\site-packages\\seaborn\\distributions.py:2551: FutureWarning: `distplot` is a deprecated function and will be removed in a future version. Please adapt your code to use either `displot` (a figure-level function with similar flexibility) or `histplot` (an axes-level function for histograms).\n",
      "  warnings.warn(msg, FutureWarning)\n"
     ]
    },
    {
     "data": {
      "text/plain": [
       "<AxesSubplot:xlabel='AST', ylabel='Density'>"
      ]
     },
     "execution_count": 92,
     "metadata": {},
     "output_type": "execute_result"
    },
    {
     "data": {
      "image/png": "[encoded data removed]",
      "text/plain": [
       "<Figure size 432x288 with 1 Axes>"
      ]
     },
     "metadata": {
      "needs_background": "light"
     },
     "output_type": "display_data"
    }
   ],
   "source": [
    "sns.distplot(wnba_clean['AST'])"
   ]
  },
  {
   "cell_type": "code",
   "execution_count": 82,
   "metadata": {},
   "outputs": [],
   "source": [
    "#hypotheses\n",
    "#H0: \\mu_1 >= 52 #average assists for female professional players is higher than the average of both female and male players combined\n",
    "\n",
    "#H1 \\mu_1 !< 52"
   ]
  },
  {
   "cell_type": "markdown",
   "metadata": {},
   "source": [
    "Scipy library has a function for one sample hypothesis tests called **ttest_1samp**. This test takes a dataset and a constant for comparison and returns the test statistic and the p value for a **2 sided test or two-tailed**."
   ]
  },
  {
   "cell_type": "code",
   "execution_count": 95,
   "metadata": {},
   "outputs": [
    {
     "data": {
      "text/plain": [
       "Ttest_1sampResult(statistic=-2.2396270335095663, pvalue=0.02666926483570908)"
      ]
     },
     "execution_count": 95,
     "metadata": {},
     "output_type": "execute_result"
    }
   ],
   "source": [
    "#your code here\n",
    "#from scipy.stats import ttest_1samp  -> this library was imported in the begining of the lab\n",
    "\n",
    "Test_2 = ttest_1samp(wnba_clean['AST'],52)\n",
    "Test_2 "
   ]
  },
  {
   "cell_type": "code",
   "execution_count": 102,
   "metadata": {},
   "outputs": [],
   "source": [
    "#your-answer-here\n",
    "\n",
    "#p-value of the test is below 0.05, so we can reject the null hypothesis in favor of the alternative one\n",
    "\n",
    "#My brother-in-law is making a wrong assumption that the average assists for female professional players\n",
    "#is higher than the average of both female and male players combined"
   ]
  },
  {
   "cell_type": "markdown",
   "metadata": {},
   "source": [
    "## **Now use a one-tailed one-sample t-test to see if we can reject (or not) the null hypothesis with a 95% confidence level.**"
   ]
  },
  {
   "cell_type": "markdown",
   "metadata": {},
   "source": [
    "In scipy there is no direct way to indicate that we want to run a one-tailed variant of the test, we simply need to divide the p-value by 2 (the test statistic stays the same).\n",
    "\n",
    "\n",
    "Resume : When using the ttest_1samp the default test is double sided, so if we are doing a uni-sided test we need to divide the p by 2 for our one-tailed test. p/2 < alpha"
   ]
  },
  {
   "cell_type": "code",
   "execution_count": 97,
   "metadata": {},
   "outputs": [
    {
     "data": {
      "text/plain": [
       "0.01333463241785454"
      ]
     },
     "execution_count": 97,
     "metadata": {},
     "output_type": "execute_result"
    }
   ],
   "source": [
    "#your code here\n",
    "\n",
    "# p/2 \n",
    "Test_2.pvalue/2  #Get the p value for one-tailed one sample t-test\n"
   ]
  },
  {
   "cell_type": "code",
   "execution_count": 100,
   "metadata": {},
   "outputs": [],
   "source": [
    "#your-answer-here\n",
    "\n",
    "#With the obtained p-value < 0.05 <we have reasons to reject the null hypothesis in favor of the alternative."
   ]
  },
  {
   "cell_type": "markdown",
   "metadata": {},
   "source": [
    "# Bonus: Can you plot the resulting t-distribution of both tests? Indicate where the is the critical region and where does your statistic fall.**"
   ]
  },
  {
   "cell_type": "code",
   "execution_count": null,
   "metadata": {},
   "outputs": [],
   "source": [
    "#your code here"
   ]
  },
  {
   "cell_type": "markdown",
   "metadata": {},
   "source": [
    "# Bonus: Satisfying your curiosity\n",
    "\n",
    "You finally managed to solve your family's debates over basketball! While you were doing that you started to take an interest in the normal distribution.\n",
    "\n",
    "You read that the normal distribution is present in a lot of natural phenomenons, like blood pressure, IQ, weight and height. If, for example, we could plot the distribution of the weights of every human on the planet right now it would have the shape of a normal distribution.\n",
    "\n",
    "In light of this you would like to see if it's possible to check if the distribution of the weights of the WNBA players is a sample distribution that comes from a population that has a normal distribution, because theoretically this should be the case.\n",
    "\n",
    "**How would you try to demonstrate that our sample fits a normal distribution? What kind of test would you use? Would you have to make any assumptions?**"
   ]
  },
  {
   "cell_type": "code",
   "execution_count": 22,
   "metadata": {},
   "outputs": [],
   "source": [
    "#your-answer-here"
   ]
  },
  {
   "cell_type": "code",
   "execution_count": 19,
   "metadata": {},
   "outputs": [],
   "source": [
    "# your code here"
   ]
  },
  {
   "cell_type": "markdown",
   "metadata": {},
   "source": [
    "**What are your comments in regards to the results of the test?**"
   ]
  },
  {
   "cell_type": "code",
   "execution_count": 24,
   "metadata": {},
   "outputs": [],
   "source": [
    "#your-answer-here"
   ]
  }
 ],
 "metadata": {
  "kernelspec": {
   "display_name": "Python 3",
   "language": "python",
   "name": "python3"
  },
  "language_info": {
   "codemirror_mode": {
    "name": "ipython",
    "version": 3
   },
   "file_extension": ".py",
   "mimetype": "text/x-python",
   "name": "python",
   "nbconvert_exporter": "python",
   "pygments_lexer": "ipython3",
   "version": "3.8.5"
  }
 },
 "nbformat": 4,
 "nbformat_minor": 2
}
